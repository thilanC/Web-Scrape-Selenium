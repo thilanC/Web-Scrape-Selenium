{
 "cells": [
  {
   "cell_type": "code",
   "execution_count": 22,
   "metadata": {},
   "outputs": [],
   "source": [
    "from bs4 import BeautifulSoup\n",
    "import requests\n",
    "\n",
    "# Start the session\n",
    "session = requests.Session()\n",
    "\n",
    "# Create the payload\n",
    "payload = {'userName':'****', \n",
    "          'password':'****'\n",
    "         }\n",
    "\n",
    "# Post the payload to the site to log in\n",
    "s = session.post(\"https://www.uptodate.com/login\", data=payload)"
   ]
  },
  {
   "cell_type": "code",
   "execution_count": 23,
   "metadata": {},
   "outputs": [],
   "source": [
    "# Navigate to the next page and scrape the data\n",
    "s = session.get('https://www.uptodate.com/contents/table-of-contents/allergy-and-immunology/allergen-immunotherapy')\n",
    "\n",
    "soup = BeautifulSoup(s.text, 'html.parser')"
   ]
  },
  {
   "cell_type": "code",
   "execution_count": 24,
   "metadata": {},
   "outputs": [
    {
     "name": "stdout",
     "output_type": "stream",
     "text": [
      "None\n"
     ]
    }
   ],
   "source": [
    "text = soup.find('div', class_='pathways-toc-no-csu-filter') \n",
    "#content = text.find_all('a') \n",
    "  \n",
    "print(text)"
   ]
  },
  {
   "cell_type": "code",
   "execution_count": 25,
   "metadata": {},
   "outputs": [
    {
     "name": "stdout",
     "output_type": "stream",
     "text": [
      "None\n"
     ]
    }
   ],
   "source": [
    "print(text)"
   ]
  },
  {
   "cell_type": "code",
   "execution_count": 26,
   "metadata": {},
   "outputs": [
    {
     "ename": "AttributeError",
     "evalue": "'NoneType' object has no attribute 'get'",
     "output_type": "error",
     "traceback": [
      "\u001b[1;31m---------------------------------------------------------------------------\u001b[0m",
      "\u001b[1;31mAttributeError\u001b[0m                            Traceback (most recent call last)",
      "Cell \u001b[1;32mIn[26], line 19\u001b[0m\n\u001b[0;32m     16\u001b[0m html \u001b[38;5;241m=\u001b[39m BeautifulSoup(post_data\u001b[38;5;241m.\u001b[39mtext, \u001b[38;5;124m'\u001b[39m\u001b[38;5;124mhtml.parser\u001b[39m\u001b[38;5;124m'\u001b[39m)\n\u001b[0;32m     18\u001b[0m \u001b[38;5;66;03m#Update data\u001b[39;00m\n\u001b[1;32m---> 19\u001b[0m data\u001b[38;5;241m.\u001b[39mupdate(timestamp_secret \u001b[38;5;241m=\u001b[39m \u001b[43mhtml\u001b[49m\u001b[38;5;241;43m.\u001b[39;49m\u001b[43mfind\u001b[49m\u001b[43m(\u001b[49m\u001b[38;5;124;43m\"\u001b[39;49m\u001b[38;5;124;43minput\u001b[39;49m\u001b[38;5;124;43m\"\u001b[39;49m\u001b[43m,\u001b[49m\u001b[43m \u001b[49m\u001b[43m{\u001b[49m\u001b[38;5;124;43m'\u001b[39;49m\u001b[38;5;124;43mname\u001b[39;49m\u001b[38;5;124;43m'\u001b[39;49m\u001b[43m:\u001b[49m\u001b[38;5;124;43m'\u001b[39;49m\u001b[38;5;124;43mtimestamp_secret\u001b[39;49m\u001b[38;5;124;43m'\u001b[39;49m\u001b[43m}\u001b[49m\u001b[43m)\u001b[49m\u001b[38;5;241;43m.\u001b[39;49m\u001b[43mget\u001b[49m(\u001b[38;5;124m'\u001b[39m\u001b[38;5;124mvalue\u001b[39m\u001b[38;5;124m'\u001b[39m))\n\u001b[0;32m     20\u001b[0m data\u001b[38;5;241m.\u001b[39mupdate(authenticity_token\u001b[38;5;241m=\u001b[39m html\u001b[38;5;241m.\u001b[39mfind(\u001b[38;5;124m\"\u001b[39m\u001b[38;5;124minput\u001b[39m\u001b[38;5;124m\"\u001b[39m, {\u001b[38;5;124m'\u001b[39m\u001b[38;5;124mname\u001b[39m\u001b[38;5;124m'\u001b[39m:\u001b[38;5;124m'\u001b[39m\u001b[38;5;124mauthenticity_token\u001b[39m\u001b[38;5;124m'\u001b[39m})\u001b[38;5;241m.\u001b[39mget(\u001b[38;5;124m'\u001b[39m\u001b[38;5;124mvalue\u001b[39m\u001b[38;5;124m'\u001b[39m))\n\u001b[0;32m     21\u001b[0m data\u001b[38;5;241m.\u001b[39mupdate(timestamp \u001b[38;5;241m=\u001b[39m html\u001b[38;5;241m.\u001b[39mfind(\u001b[38;5;124m\"\u001b[39m\u001b[38;5;124minput\u001b[39m\u001b[38;5;124m\"\u001b[39m, {\u001b[38;5;124m'\u001b[39m\u001b[38;5;124mname\u001b[39m\u001b[38;5;124m'\u001b[39m:\u001b[38;5;124m'\u001b[39m\u001b[38;5;124mtimestamp\u001b[39m\u001b[38;5;124m'\u001b[39m})\u001b[38;5;241m.\u001b[39mget(\u001b[38;5;124m'\u001b[39m\u001b[38;5;124mvalue\u001b[39m\u001b[38;5;124m'\u001b[39m))\n",
      "\u001b[1;31mAttributeError\u001b[0m: 'NoneType' object has no attribute 'get'"
     ]
    }
   ],
   "source": [
    "from bs4 import BeautifulSoup\n",
    "import requests\n",
    "\n",
    "\n",
    "login = '*****'\n",
    "password = '*********'\n",
    "\n",
    "headers = {'User-Agent': 'Mozilla/5.0 (Windows NT 10.0; Win64; x64) AppleWebKit/537.36 (KHTML, like Gecko) Chrome/121.0.0.0 Safari/537.36'}\n",
    "\n",
    "data = {'login': login,\n",
    "        'password': password, 'js-webauthn-support': 'supported', 'js-webauthn-iuvpaa-support': 'unsupported',\n",
    "        'commit': 'Sign in'}\n",
    "\n",
    "with requests.session() as sess:\n",
    "    post_data = sess.get('https://www.uptodate.com/login')\n",
    "    html = BeautifulSoup(post_data.text, 'html.parser')\n",
    "    \n",
    "    #Update data\n",
    "    data.update(timestamp_secret = html.find(\"input\", {'name':'timestamp_secret'}).get('value'))\n",
    "    data.update(authenticity_token= html.find(\"input\", {'name':'authenticity_token'}).get('value'))\n",
    "    data.update(timestamp = html.find(\"input\", {'name':'timestamp'}).get('value'))\n",
    "    #Login\n",
    "    res = sess.post(\"https://www.uptodate.com/session\", data=data, headers=headers)\n",
    "    \n",
    "    #Check login\n",
    "    res = sess.get('https://www.uptodate.com/')\n",
    "    try:\n",
    "        username = BeautifulSoup(res.text, 'html.parser').find('meta', {'name': 'user-login'}).get('content')\n",
    "    except:\n",
    "        print ('Your username or password is incorrect')\n",
    "    else:\n",
    "        print (\"You have successfully logged in as\", username)"
   ]
  },
  {
   "cell_type": "code",
   "execution_count": null,
   "metadata": {},
   "outputs": [],
   "source": []
  },
  {
   "cell_type": "code",
   "execution_count": null,
   "metadata": {},
   "outputs": [],
   "source": []
  }
 ],
 "metadata": {
  "kernelspec": {
   "display_name": "cdazz",
   "language": "python",
   "name": "python3"
  },
  "language_info": {
   "codemirror_mode": {
    "name": "ipython",
    "version": 3
   },
   "file_extension": ".py",
   "mimetype": "text/x-python",
   "name": "python",
   "nbconvert_exporter": "python",
   "pygments_lexer": "ipython3",
   "version": "3.12.1"
  }
 },
 "nbformat": 4,
 "nbformat_minor": 2
}
